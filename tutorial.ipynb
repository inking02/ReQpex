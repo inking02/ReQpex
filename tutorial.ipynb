{
 "cells": [
  {
   "cell_type": "markdown",
   "metadata": {},
   "source": [
    "## **Finding a maximum independant set using a quantum computer with neutral atoms**\n",
    "\n",
    "The first step is to create a register with a given geometrical graph."
   ]
  },
  {
   "cell_type": "code",
   "execution_count": 1,
   "metadata": {},
   "outputs": [],
   "source": [
    "import networkx as nx\n",
    "import numpy as np\n",
    "import matplotlib.pyplot as plt"
   ]
  },
  {
   "cell_type": "code",
   "execution_count": null,
   "metadata": {},
   "outputs": [],
   "source": [
    "#creating a graph with determinated edges\n",
    "\n",
    "G = nx.Graph()\n",
    "edges = np.array([(0, 1), (0, 2), (1,2), (3, 4), (4, 5)]) #be careful, the nodes must be noted from 0 to n where n is the number of total nodes\n",
    "G.add_edges_from(edges)\n",
    "\n",
    "#setting the position of the nodes using spring_layout\n",
    "pos = nx.spring_layout(G, seed = 42)#the seed can be changed, but the seed 42 is used by the Quantum_MIS class\n",
    "\n",
    "#plot the graph\n",
    "nx.draw(G, pos = pos, with_labels = True)\n",
    "plt.show()"
   ]
  },
  {
   "cell_type": "code",
   "execution_count": null,
   "metadata": {},
   "outputs": [],
   "source": [
    "#creating the quantum solver object\n",
    "from QMIS_code.Quantum_MIS import Quantum_MIS\n",
    "from pulser.devices import AnalogDevice\n",
    "\n",
    "#We first want to specify the device used to run the quantum_MIS algorithm \n",
    "device = AnalogDevice\n",
    "\n",
    "#we only need to pass the graph object in the Quantum_MIS class\n",
    "mis_solution = Quantum_MIS(G, device)\n",
    "\n",
    "#the Quantum_MIS class creates a register for each connected components\n",
    "# we can now print the registers created\n",
    "mis_solution.print_regs() \n"
   ]
  },
  {
   "cell_type": "markdown",
   "metadata": {},
   "source": [
    "Now that we have created the register, we need to create a Pulse. In this project, 5 types of pulse have been implemented. \n",
    "- \"Rise_sweep_fall\" -> A pulse that starts to 0, rises during a quarter of the total time to the omega specified, stays constant during half of the total time, and falls to 0 during a quarter of the total time.\n",
    "\n",
    "- \"Pyramid\" -> A pulse that starts at a certain value that is Omega - delta. The pulse stays at this value for a quarter of the total time, does a Rise_Fall pulse for half of the total time, and finally stays constant at Omega-delta for the last quarter of the total time.\n",
    "\n",
    "- \"Blackman\" -> This pulse is a normal form with a total area of Omega with a lenght given by the time.\n",
    "\n",
    "- \"Rise_fall\" -> This pulse is only the rise and fall part of the Rise_Sweep_Fall pulse. It rises during half of the time from 0 to Omega and falls back to 0 for the last half of the total time.\n",
    "\n",
    "- \"Waveform\" -> This pulse starts at 0, is at Omega at half of the total time, and falls back to 0 at the end, but follows a waveform pattern instead of a linear pattern like the Rise_Fall. "
   ]
  },
  {
   "cell_type": "code",
   "execution_count": 4,
   "metadata": {},
   "outputs": [],
   "source": [
    "from QMIS_code.pulse_utils import Pulse_constructor\n",
    "\n",
    "T = 4000 #time of the pulse in ns, the time limit is 4000.\n",
    "\n",
    "pulse_type = \"Rise_sweep_fall\" #the pulse type used.\n",
    "\n",
    "#constructing the pulse using the time and the pulse_type\n",
    "pulse = Pulse_constructor(T, pulse_type)\n",
    "\n",
    "\n"
   ]
  },
  {
   "cell_type": "markdown",
   "metadata": {},
   "source": [
    "It's now time to run the quantum_MIS algorithm. This algorithm takes a graph with all its connected components and resolves it with a quantum adiabatic algorithm and combines them to return a count dictionnary."
   ]
  },
  {
   "cell_type": "code",
   "execution_count": 5,
   "metadata": {},
   "outputs": [
    {
     "name": "stdout",
     "output_type": "stream",
     "text": [
      "{'000001': 11, '000100': 17, '000101': 81, '001001': 41, '001100': 47, '001101': 111, '010001': 33, '010100': 39, '010101': 103, '100001': 47, '100100': 53, '100101': 117}\n"
     ]
    }
   ],
   "source": [
    "shots = 100 #the number of shots doesn't have to be this big for the results to be good\n",
    "\n",
    "counts_results = mis_solution.run(pulse, progress_bar=False, shots = shots)\n",
    "print(counts_results)"
   ]
  },
  {
   "cell_type": "markdown",
   "metadata": {},
   "source": [
    "There's an argument in the run meethod named `generate_histogram`. Here's an exemple of the histogram it would produces:"
   ]
  },
  {
   "cell_type": "code",
   "execution_count": null,
   "metadata": {},
   "outputs": [],
   "source": [
    "from QMIS_code.QMIS_utils import plot_histogram\n",
    "\n",
    "plot_histogram(counts_results, shots) #you can also give a file_name in argument in this function to save the histogram in your repository"
   ]
  }
 ],
 "metadata": {
  "kernelspec": {
   "display_name": "pasqal",
   "language": "python",
   "name": "python3"
  },
  "language_info": {
   "codemirror_mode": {
    "name": "ipython",
    "version": 3
   },
   "file_extension": ".py",
   "mimetype": "text/x-python",
   "name": "python",
   "nbconvert_exporter": "python",
   "pygments_lexer": "ipython3",
   "version": "3.11.10"
  }
 },
 "nbformat": 4,
 "nbformat_minor": 2
}
