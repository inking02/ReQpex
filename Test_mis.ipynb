{
 "cells": [
  {
   "cell_type": "code",
   "execution_count": 1,
   "metadata": {},
   "outputs": [],
   "source": [
    "import numpy as np\n",
    "from Big_QMIS import BIG_QMIS\n",
    "from Find_MIS_discs import Find_MIS_discs\n",
    "from QMIS_code.Quantum_MIS import Quantum_MIS\n",
    "import networkx as nx"
   ]
  },
  {
   "cell_type": "code",
   "execution_count": 2,
   "metadata": {},
   "outputs": [],
   "source": [
    "shots = 1000\n",
    "path = \"/Users/lf/Documents/GitHub/ReQpex/\"\n",
    "\n",
    "best_mis = []"
   ]
  },
  {
   "cell_type": "markdown",
   "metadata": {},
   "source": [
    "## Graphe"
   ]
  },
  {
   "cell_type": "code",
   "execution_count": 3,
   "metadata": {},
   "outputs": [],
   "source": [
    "G = nx.Graph"
   ]
  },
  {
   "cell_type": "markdown",
   "metadata": {},
   "source": [
    "## Classique"
   ]
  },
  {
   "cell_type": "code",
   "execution_count": null,
   "metadata": {},
   "outputs": [],
   "source": [
    "classical = Find_MIS_discs(G)\n",
    "res_dict = classical.run(\n",
    "    shots=1000, path=path, file_name=\"histo_classique\", generate_histogram=True\n",
    ")\n",
    "best_mis.append(max(zip(res_dict.values(), res_dict.keys()))[1])"
   ]
  },
  {
   "cell_type": "markdown",
   "metadata": {},
   "source": [
    "## QAAA"
   ]
  },
  {
   "cell_type": "code",
   "execution_count": null,
   "metadata": {},
   "outputs": [],
   "source": [
    "#À faire"
   ]
  },
  {
   "cell_type": "markdown",
   "metadata": {},
   "source": [
    "## QAOA"
   ]
  },
  {
   "cell_type": "code",
   "execution_count": null,
   "metadata": {},
   "outputs": [],
   "source": [
    "#À faire"
   ]
  },
  {
   "cell_type": "markdown",
   "metadata": {},
   "source": [
    "## BIG QMIS"
   ]
  },
  {
   "cell_type": "code",
   "execution_count": null,
   "metadata": {},
   "outputs": [],
   "source": [
    "big=BIG_QMIS(G,num_atoms=10)\n",
    "res= big.run(shots=1000)\n",
    "best_mis.append(res)"
   ]
  },
  {
   "cell_type": "markdown",
   "metadata": {},
   "source": [
    "## Results"
   ]
  },
  {
   "cell_type": "code",
   "execution_count": null,
   "metadata": {},
   "outputs": [],
   "source": [
    "print(\"Results\")\n",
    "print(\"Classical number of nodes: \", len(best_mis[0]))\n",
    "print(\"QAA number of nodes: \", len(best_mis[1]))\n",
    "print(\"QAOA number of nodes: \", len(best_mis[2]))\n",
    "print(\"BIG_QMIS number of nodes: \", len(best_mis[3]))\n",
    "\n",
    "print()\n",
    "print(\"BIG QMIS' solution: \",best_mis[3])"
   ]
  }
 ],
 "metadata": {
  "kernelspec": {
   "display_name": "intro_graphes",
   "language": "python",
   "name": "python3"
  },
  "language_info": {
   "codemirror_mode": {
    "name": "ipython",
    "version": 3
   },
   "file_extension": ".py",
   "mimetype": "text/x-python",
   "name": "python",
   "nbconvert_exporter": "python",
   "pygments_lexer": "ipython3",
   "version": "3.11.10"
  }
 },
 "nbformat": 4,
 "nbformat_minor": 2
}
